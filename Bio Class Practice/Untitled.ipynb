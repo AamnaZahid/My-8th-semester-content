{
 "cells": [
  {
   "cell_type": "code",
   "execution_count": 1,
   "id": "cd43a041",
   "metadata": {},
   "outputs": [
    {
     "data": {
      "text/plain": [
       "'GCUAGUAAUGUG'"
      ]
     },
     "execution_count": 1,
     "metadata": {},
     "output_type": "execute_result"
    }
   ],
   "source": [
    "dna_seq = 'GCTAGTAATGTG'\n",
    "m_rna_seq = dna_seq.replace('T','U')\n",
    "m_rna_seq"
   ]
  },
  {
   "cell_type": "code",
   "execution_count": 3,
   "id": "8801cd5f",
   "metadata": {},
   "outputs": [
    {
     "data": {
      "text/plain": [
       "-1"
      ]
     },
     "execution_count": 3,
     "metadata": {},
     "output_type": "execute_result"
    }
   ],
   "source": [
    "m_rna_seq.find('GG')"
   ]
  },
  {
   "cell_type": "code",
   "execution_count": 4,
   "id": "e92f6ebc",
   "metadata": {},
   "outputs": [
    {
     "name": "stdout",
     "output_type": "stream",
     "text": [
      "41.66666666666667\n"
     ]
    }
   ],
   "source": [
    "# DNA Sequence Manipulation\n",
    "dna_seq = 'GCTAGTAATGTG'\n",
    "c = dna_seq.count(\"C\")\n",
    "g = dna_seq.count(\"G\")\n",
    "gc_content = (c + g) / len(dna_seq) * 100\n",
    "print(gc_content)\n"
   ]
  },
  {
   "cell_type": "code",
   "execution_count": 5,
   "id": "f0368c47",
   "metadata": {},
   "outputs": [
    {
     "name": "stdout",
     "output_type": "stream",
     "text": [
      "7\n",
      "-1\n",
      "['Alex Doe', '5555-2333', 'nobody@example.com']\n"
     ]
    }
   ],
   "source": [
    "\n",
    "\n",
    "# String Methods (find() and split())\n",
    "m_rna_seq = 'GCUAGUAAUGUG'\n",
    "print(m_rna_seq.find('AUG'))  # Output: 7\n",
    "print(m_rna_seq.find('GGG'))  # Output: -1\n",
    "email = \"Alex Doe,5555-2333,nobody@example.com\"\n",
    "print(email.split(','))  # Output: ['Alex Doe', '5555-2333', 'nobody@example.com']\n"
   ]
  },
  {
   "cell_type": "code",
   "execution_count": 6,
   "id": "7d7e5b28",
   "metadata": {},
   "outputs": [
    {
     "name": "stdout",
     "output_type": "stream",
     "text": [
      "[1, 2, 3, 4, 5, 99]\n"
     ]
    }
   ],
   "source": [
    "\n",
    "# List Manipulation (Appending and Removing)\n",
    "first_list = [1, 2, 3, 4, 5]\n",
    "first_list.append(99)\n",
    "print(first_list)  # Output: [1, 2, 3, 4, 5, 99]\n"
   ]
  },
  {
   "cell_type": "code",
   "execution_count": 7,
   "id": "55394857",
   "metadata": {},
   "outputs": [
    {
     "name": "stdout",
     "output_type": "stream",
     "text": [
      "[1, 2, 4, 5, 99]\n"
     ]
    }
   ],
   "source": [
    "\n",
    "first_list.pop(2)\n",
    "print(first_list)  # Output: [1, 2, 4, 5, 99]"
   ]
  },
  {
   "cell_type": "code",
   "execution_count": 8,
   "id": "d9f86521",
   "metadata": {},
   "outputs": [
    {
     "name": "stdout",
     "output_type": "stream",
     "text": [
      "[1, 2, 4, 5]\n"
     ]
    }
   ],
   "source": [
    "\n",
    "\n",
    "first_list.remove(99)\n",
    "print(first_list)  # Output: [1, 2, 4, 5]\n"
   ]
  },
  {
   "cell_type": "code",
   "execution_count": 9,
   "id": "6813ca3e",
   "metadata": {},
   "outputs": [
    {
     "name": "stdout",
     "output_type": "stream",
     "text": [
      "23\n",
      "11\n"
     ]
    }
   ],
   "source": [
    "\n",
    "# Tuple Creation and Access\n",
    "point = (23, 56, 11)\n",
    "print(point[0])  # Output: 23\n",
    "print(point[-1])  # Output: 11"
   ]
  },
  {
   "cell_type": "code",
   "execution_count": 10,
   "id": "591f391a",
   "metadata": {},
   "outputs": [
    {
     "data": {
      "text/plain": [
       "'V'"
      ]
     },
     "execution_count": 10,
     "metadata": {},
     "output_type": "execute_result"
    }
   ],
   "source": [
    "sequence = 'MRVLLVALALLALAASATS'\n",
    "sequence[0]\n",
    "sequence[5]"
   ]
  },
  {
   "cell_type": "code",
   "execution_count": 11,
   "id": "145d4cfc",
   "metadata": {},
   "outputs": [
    {
     "data": {
      "text/plain": [
       "'S'"
      ]
     },
     "execution_count": 11,
     "metadata": {},
     "output_type": "execute_result"
    }
   ],
   "source": [
    "sequence[-4]"
   ]
  },
  {
   "cell_type": "code",
   "execution_count": 12,
   "id": "4d4cf90f",
   "metadata": {},
   "outputs": [
    {
     "data": {
      "text/plain": [
       "'MR'"
      ]
     },
     "execution_count": 12,
     "metadata": {},
     "output_type": "execute_result"
    }
   ],
   "source": [
    "sequence[:2]"
   ]
  },
  {
   "cell_type": "code",
   "execution_count": 13,
   "id": "5af0d1ec",
   "metadata": {},
   "outputs": [
    {
     "data": {
      "text/plain": [
       "False"
      ]
     },
     "execution_count": 13,
     "metadata": {},
     "output_type": "execute_result"
    }
   ],
   "source": [
    "'X' in sequence"
   ]
  },
  {
   "cell_type": "markdown",
   "id": "ac6f3d44",
   "metadata": {},
   "source": [
    "# Tuple"
   ]
  },
  {
   "cell_type": "code",
   "execution_count": 14,
   "id": "bb65aafc",
   "metadata": {},
   "outputs": [
    {
     "data": {
      "text/plain": [
       "(23, 56, 11, 2, 6, 7)"
      ]
     },
     "execution_count": 14,
     "metadata": {},
     "output_type": "execute_result"
    }
   ],
   "source": [
    "point = (23, 56, 11)\n",
    "point2 = (2, 6, 7)\n",
    "point + point2"
   ]
  },
  {
   "cell_type": "code",
   "execution_count": 15,
   "id": "16a9c0c2",
   "metadata": {},
   "outputs": [
    {
     "data": {
      "text/plain": [
       "3"
      ]
     },
     "execution_count": 15,
     "metadata": {},
     "output_type": "execute_result"
    }
   ],
   "source": [
    "len(point)\n"
   ]
  },
  {
   "cell_type": "code",
   "execution_count": 16,
   "id": "754fabed",
   "metadata": {},
   "outputs": [
    {
     "data": {
      "text/plain": [
       "7"
      ]
     },
     "execution_count": 16,
     "metadata": {},
     "output_type": "execute_result"
    }
   ],
   "source": [
    "max(point2)"
   ]
  },
  {
   "cell_type": "markdown",
   "id": "e441d9e7",
   "metadata": {},
   "source": [
    "# List"
   ]
  },
  {
   "cell_type": "code",
   "execution_count": 17,
   "id": "dba49ac4",
   "metadata": {},
   "outputs": [
    {
     "data": {
      "text/plain": [
       "['T', 'A', 'T', 'A', 'A', 'A']"
      ]
     },
     "execution_count": 17,
     "metadata": {},
     "output_type": "execute_result"
    }
   ],
   "source": [
    "tata_box = 'TATAAA'\n",
    "list(tata_box)"
   ]
  },
  {
   "cell_type": "code",
   "execution_count": 18,
   "id": "20d38a9a",
   "metadata": {},
   "outputs": [
    {
     "data": {
      "text/plain": [
       "'GCUAGUAAUGUG'"
      ]
     },
     "execution_count": 18,
     "metadata": {},
     "output_type": "execute_result"
    }
   ],
   "source": [
    "dna_seq = 'GCTAGTAATGTG'\n",
    "m_rna_seq = dna_seq.replace('T','U')\n",
    "m_rna_seq"
   ]
  },
  {
   "cell_type": "code",
   "execution_count": 19,
   "id": "d0a55208",
   "metadata": {},
   "outputs": [
    {
     "data": {
      "text/plain": [
       "['red', 'red', 'red', 'red', 'red']"
      ]
     },
     "execution_count": 19,
     "metadata": {},
     "output_type": "execute_result"
    }
   ],
   "source": [
    "samples = ['red'] * 5\n",
    "samples"
   ]
  },
  {
   "cell_type": "code",
   "execution_count": 20,
   "id": "bdf22330",
   "metadata": {},
   "outputs": [
    {
     "data": {
      "text/plain": [
       "3"
      ]
     },
     "execution_count": 20,
     "metadata": {},
     "output_type": "execute_result"
    }
   ],
   "source": [
    "a = [1, 2, 3]\n",
    "b = a\n",
    "b.pop()"
   ]
  },
  {
   "cell_type": "code",
   "execution_count": 22,
   "id": "13930bc6",
   "metadata": {},
   "outputs": [
    {
     "data": {
      "text/plain": [
       "3"
      ]
     },
     "execution_count": 22,
     "metadata": {},
     "output_type": "execute_result"
    }
   ],
   "source": [
    "import copy\n",
    "a = [1, 2, 3]\n",
    "b = copy.copy(a)\n",
    "b.pop()"
   ]
  },
  {
   "cell_type": "markdown",
   "id": "0f7237aa",
   "metadata": {},
   "source": [
    "# Dictionaries"
   ]
  },
  {
   "cell_type": "code",
   "execution_count": 23,
   "id": "8c5fbf33",
   "metadata": {},
   "outputs": [
    {
     "name": "stdout",
     "output_type": "stream",
     "text": [
      "C stands for the amino acid Cys\n"
     ]
    }
   ],
   "source": [
    "iupac = {'A':'Ala','C':'Cys','E':'Glu'}\n",
    ">>> print('C stands for the amino acid {0}'.format(iupac['C']))"
   ]
  },
  {
   "cell_type": "code",
   "execution_count": 24,
   "id": "59c23193",
   "metadata": {},
   "outputs": [
    {
     "data": {
      "text/plain": [
       "3"
      ]
     },
     "execution_count": 24,
     "metadata": {},
     "output_type": "execute_result"
    }
   ],
   "source": [
    "len(iupac)"
   ]
  },
  {
   "cell_type": "code",
   "execution_count": 25,
   "id": "e0d2e141",
   "metadata": {},
   "outputs": [
    {
     "data": {
      "text/plain": [
       "OrderedDict([('a', 'A'), ('b', 'B'), ('c', 'C')])"
      ]
     },
     "execution_count": 25,
     "metadata": {},
     "output_type": "execute_result"
    }
   ],
   "source": [
    "from collections import OrderedDict\n",
    ">>> d = OrderedDict()\n",
    ">>> d['a'] = 'A'\n",
    ">>> d['b'] = 'B'\n",
    ">>> d['c'] = 'C'\n",
    ">>> d"
   ]
  },
  {
   "cell_type": "code",
   "execution_count": 30,
   "id": "bbb31581",
   "metadata": {},
   "outputs": [],
   "source": []
  },
  {
   "cell_type": "code",
   "execution_count": 32,
   "id": "9e2b71c8",
   "metadata": {},
   "outputs": [
    {
     "data": {
      "text/plain": [
       "dict_values(['Ala', 'Cys', 'Glu'])"
      ]
     },
     "execution_count": 32,
     "metadata": {},
     "output_type": "execute_result"
    }
   ],
   "source": [
    "iupac.values()"
   ]
  },
  {
   "cell_type": "code",
   "execution_count": 33,
   "id": "f7b4c0d9",
   "metadata": {},
   "outputs": [
    {
     "data": {
      "text/plain": [
       "dict_keys(['A', 'C', 'E'])"
      ]
     },
     "execution_count": 33,
     "metadata": {},
     "output_type": "execute_result"
    }
   ],
   "source": [
    "iupac.keys()"
   ]
  },
  {
   "cell_type": "code",
   "execution_count": 34,
   "id": "ad370be4",
   "metadata": {},
   "outputs": [],
   "source": [
    "\n",
    "iupac_keys = iupac.keys()\n",
    "iupac_vals = iupac.values()\n"
   ]
  },
  {
   "cell_type": "code",
   "execution_count": 36,
   "id": "26c40e9c",
   "metadata": {},
   "outputs": [
    {
     "data": {
      "text/plain": [
       "'Ala'"
      ]
     },
     "execution_count": 36,
     "metadata": {},
     "output_type": "execute_result"
    }
   ],
   "source": [
    "iupac.pop('A')"
   ]
  },
  {
   "cell_type": "code",
   "execution_count": 38,
   "id": "b247a54c",
   "metadata": {},
   "outputs": [
    {
     "data": {
      "text/plain": [
       "dict_items([('E', 'Glu'), ('X', 'Xaa'), ('C', 'Cys'), ('A', 'Ala')])"
      ]
     },
     "execution_count": 38,
     "metadata": {},
     "output_type": "execute_result"
    }
   ],
   "source": [
    "iupac = {'E': 'Glu', 'X': 'Xaa', 'C': 'Cys', 'A': 'Ala'}\n",
    "iupac.items()"
   ]
  },
  {
   "cell_type": "code",
   "execution_count": 42,
   "id": "0dfc2618",
   "metadata": {},
   "outputs": [
    {
     "data": {
      "text/plain": [
       "'Ala'"
      ]
     },
     "execution_count": 42,
     "metadata": {},
     "output_type": "execute_result"
    }
   ],
   "source": [
    "iupac.get('A','No translation available')"
   ]
  },
  {
   "cell_type": "code",
   "execution_count": 43,
   "id": "6428d92e",
   "metadata": {},
   "outputs": [
    {
     "data": {
      "text/plain": [
       "'No translation available'"
      ]
     },
     "execution_count": 43,
     "metadata": {},
     "output_type": "execute_result"
    }
   ],
   "source": [
    "\n",
    "iupac.get('Z','No translation available')"
   ]
  },
  {
   "cell_type": "code",
   "execution_count": 44,
   "id": "30671e2c",
   "metadata": {},
   "outputs": [
    {
     "data": {
      "text/plain": [
       "{'E': 'Glu', 'X': 'Xaa', 'C': 'Cys', 'A': 'Ala'}"
      ]
     },
     "execution_count": 44,
     "metadata": {},
     "output_type": "execute_result"
    }
   ],
   "source": [
    "iupac"
   ]
  },
  {
   "cell_type": "code",
   "execution_count": 46,
   "id": "410c69ae",
   "metadata": {},
   "outputs": [
    {
     "data": {
      "text/plain": [
       "{'E': 'Glu', 'X': 'Xaa', 'C': 'Cys'}"
      ]
     },
     "execution_count": 46,
     "metadata": {},
     "output_type": "execute_result"
    }
   ],
   "source": [
    "del iupac['A']\n",
    "iupac"
   ]
  },
  {
   "cell_type": "code",
   "execution_count": null,
   "id": "3585653f",
   "metadata": {},
   "outputs": [],
   "source": []
  }
 ],
 "metadata": {
  "kernelspec": {
   "display_name": "Python 3 (ipykernel)",
   "language": "python",
   "name": "python3"
  },
  "language_info": {
   "codemirror_mode": {
    "name": "ipython",
    "version": 3
   },
   "file_extension": ".py",
   "mimetype": "text/x-python",
   "name": "python",
   "nbconvert_exporter": "python",
   "pygments_lexer": "ipython3",
   "version": "3.10.12"
  }
 },
 "nbformat": 4,
 "nbformat_minor": 5
}
