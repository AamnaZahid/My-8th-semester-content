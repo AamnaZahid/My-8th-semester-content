{
 "cells": [
  {
   "cell_type": "code",
   "execution_count": 1,
   "id": "d44609cf",
   "metadata": {},
   "outputs": [
    {
     "data": {
      "text/plain": [
       "'GCUAGUAAUGUG'"
      ]
     },
     "execution_count": 1,
     "metadata": {},
     "output_type": "execute_result"
    }
   ],
   "source": [
    "dna_seq = 'GCTAGTAATGTG'\n",
    "m_rna_seq = dna_seq.replace('T','U')\n",
    "m_rna_seq"
   ]
  },
  {
   "cell_type": "code",
   "execution_count": 3,
   "id": "6f3b3556",
   "metadata": {},
   "outputs": [
    {
     "data": {
      "text/plain": [
       "-1"
      ]
     },
     "execution_count": 3,
     "metadata": {},
     "output_type": "execute_result"
    }
   ],
   "source": [
    "m_rna_seq.find('GG')"
   ]
  },
  {
   "cell_type": "code",
   "execution_count": 4,
   "id": "95ff6a75",
   "metadata": {},
   "outputs": [
    {
     "name": "stdout",
     "output_type": "stream",
     "text": [
      "41.66666666666667\n"
     ]
    }
   ],
   "source": [
    "# DNA Sequence Manipulation\n",
    "dna_seq = 'GCTAGTAATGTG'\n",
    "c = dna_seq.count(\"C\")\n",
    "g = dna_seq.count(\"G\")\n",
    "gc_content = (c + g) / len(dna_seq) * 100\n",
    "print(gc_content)\n"
   ]
  },
  {
   "cell_type": "code",
   "execution_count": 5,
   "id": "545f89f4",
   "metadata": {},
   "outputs": [
    {
     "name": "stdout",
     "output_type": "stream",
     "text": [
      "7\n",
      "-1\n",
      "['Alex Doe', '5555-2333', 'nobody@example.com']\n"
     ]
    }
   ],
   "source": [
    "\n",
    "\n",
    "# String Methods (find() and split())\n",
    "m_rna_seq = 'GCUAGUAAUGUG'\n",
    "print(m_rna_seq.find('AUG'))  # Output: 7\n",
    "print(m_rna_seq.find('GGG'))  # Output: -1\n",
    "email = \"Alex Doe,5555-2333,nobody@example.com\"\n",
    "print(email.split(','))  # Output: ['Alex Doe', '5555-2333', 'nobody@example.com']\n"
   ]
  },
  {
   "cell_type": "code",
   "execution_count": 6,
   "id": "a43591a6",
   "metadata": {},
   "outputs": [
    {
     "name": "stdout",
     "output_type": "stream",
     "text": [
      "[1, 2, 3, 4, 5, 99]\n"
     ]
    }
   ],
   "source": [
    "\n",
    "# List Manipulation (Appending and Removing)\n",
    "first_list = [1, 2, 3, 4, 5]\n",
    "first_list.append(99)\n",
    "print(first_list)  # Output: [1, 2, 3, 4, 5, 99]\n"
   ]
  },
  {
   "cell_type": "code",
   "execution_count": 7,
   "id": "e9adae95",
   "metadata": {},
   "outputs": [
    {
     "name": "stdout",
     "output_type": "stream",
     "text": [
      "[1, 2, 4, 5, 99]\n"
     ]
    }
   ],
   "source": [
    "\n",
    "first_list.pop(2)\n",
    "print(first_list)  # Output: [1, 2, 4, 5, 99]"
   ]
  },
  {
   "cell_type": "code",
   "execution_count": 8,
   "id": "33d0d0c5",
   "metadata": {},
   "outputs": [
    {
     "name": "stdout",
     "output_type": "stream",
     "text": [
      "[1, 2, 4, 5]\n"
     ]
    }
   ],
   "source": [
    "\n",
    "\n",
    "first_list.remove(99)\n",
    "print(first_list)  # Output: [1, 2, 4, 5]\n"
   ]
  },
  {
   "cell_type": "code",
   "execution_count": 9,
   "id": "a23e886c",
   "metadata": {},
   "outputs": [
    {
     "name": "stdout",
     "output_type": "stream",
     "text": [
      "23\n",
      "11\n"
     ]
    }
   ],
   "source": [
    "\n",
    "# Tuple Creation and Access\n",
    "point = (23, 56, 11)\n",
    "print(point[0])  # Output: 23\n",
    "print(point[-1])  # Output: 11"
   ]
  },
  {
   "cell_type": "code",
   "execution_count": 10,
   "id": "db784bc9",
   "metadata": {},
   "outputs": [
    {
     "data": {
      "text/plain": [
       "'V'"
      ]
     },
     "execution_count": 10,
     "metadata": {},
     "output_type": "execute_result"
    }
   ],
   "source": [
    "sequence = 'MRVLLVALALLALAASATS'\n",
    "sequence[0]\n",
    "sequence[5]"
   ]
  },
  {
   "cell_type": "code",
   "execution_count": 11,
   "id": "204b1dbf",
   "metadata": {},
   "outputs": [
    {
     "data": {
      "text/plain": [
       "'S'"
      ]
     },
     "execution_count": 11,
     "metadata": {},
     "output_type": "execute_result"
    }
   ],
   "source": [
    "sequence[-4]"
   ]
  },
  {
   "cell_type": "code",
   "execution_count": 12,
   "id": "0896088c",
   "metadata": {},
   "outputs": [
    {
     "data": {
      "text/plain": [
       "'MR'"
      ]
     },
     "execution_count": 12,
     "metadata": {},
     "output_type": "execute_result"
    }
   ],
   "source": [
    "sequence[:2]"
   ]
  },
  {
   "cell_type": "code",
   "execution_count": 13,
   "id": "c42feb79",
   "metadata": {},
   "outputs": [
    {
     "data": {
      "text/plain": [
       "False"
      ]
     },
     "execution_count": 13,
     "metadata": {},
     "output_type": "execute_result"
    }
   ],
   "source": [
    "'X' in sequence"
   ]
  },
  {
   "cell_type": "code",
   "execution_count": 14,
   "id": "7c0f6394",
   "metadata": {},
   "outputs": [
    {
     "data": {
      "text/plain": [
       "(23, 56, 11, 2, 6, 7)"
      ]
     },
     "execution_count": 14,
     "metadata": {},
     "output_type": "execute_result"
    }
   ],
   "source": [
    "point = (23, 56, 11)\n",
    "point2 = (2, 6, 7)\n",
    "point + point2"
   ]
  },
  {
   "cell_type": "code",
   "execution_count": 15,
   "id": "f01a0177",
   "metadata": {},
   "outputs": [
    {
     "data": {
      "text/plain": [
       "3"
      ]
     },
     "execution_count": 15,
     "metadata": {},
     "output_type": "execute_result"
    }
   ],
   "source": [
    "len(point)\n"
   ]
  },
  {
   "cell_type": "code",
   "execution_count": 16,
   "id": "0558b5cd",
   "metadata": {},
   "outputs": [
    {
     "data": {
      "text/plain": [
       "7"
      ]
     },
     "execution_count": 16,
     "metadata": {},
     "output_type": "execute_result"
    }
   ],
   "source": [
    "max(point2)"
   ]
  },
  {
   "cell_type": "code",
   "execution_count": 17,
   "id": "b616d4fa",
   "metadata": {},
   "outputs": [
    {
     "data": {
      "text/plain": [
       "['T', 'A', 'T', 'A', 'A', 'A']"
      ]
     },
     "execution_count": 17,
     "metadata": {},
     "output_type": "execute_result"
    }
   ],
   "source": [
    "tata_box = 'TATAAA'\n",
    "list(tata_box)"
   ]
  },
  {
   "cell_type": "code",
   "execution_count": 18,
   "id": "c5d704da",
   "metadata": {},
   "outputs": [
    {
     "data": {
      "text/plain": [
       "'GCUAGUAAUGUG'"
      ]
     },
     "execution_count": 18,
     "metadata": {},
     "output_type": "execute_result"
    }
   ],
   "source": [
    "dna_seq = 'GCTAGTAATGTG'\n",
    "m_rna_seq = dna_seq.replace('T','U')\n",
    "m_rna_seq"
   ]
  },
  {
   "cell_type": "code",
   "execution_count": 19,
   "id": "bee4de65",
   "metadata": {},
   "outputs": [
    {
     "data": {
      "text/plain": [
       "['red', 'red', 'red', 'red', 'red']"
      ]
     },
     "execution_count": 19,
     "metadata": {},
     "output_type": "execute_result"
    }
   ],
   "source": [
    "samples = ['red'] * 5\n",
    "samples"
   ]
  },
  {
   "cell_type": "code",
   "execution_count": 20,
   "id": "e43ef608",
   "metadata": {},
   "outputs": [
    {
     "data": {
      "text/plain": [
       "3"
      ]
     },
     "execution_count": 20,
     "metadata": {},
     "output_type": "execute_result"
    }
   ],
   "source": [
    "a = [1, 2, 3]\n",
    "b = a\n",
    "b.pop()"
   ]
  },
  {
   "cell_type": "code",
   "execution_count": 22,
   "id": "ff7d0d50",
   "metadata": {},
   "outputs": [
    {
     "data": {
      "text/plain": [
       "3"
      ]
     },
     "execution_count": 22,
     "metadata": {},
     "output_type": "execute_result"
    }
   ],
   "source": [
    "import copy\n",
    "a = [1, 2, 3]\n",
    "b = copy.copy(a)\n",
    "b.pop()"
   ]
  },
  {
   "cell_type": "code",
   "execution_count": null,
   "id": "fa21a618",
   "metadata": {},
   "outputs": [],
   "source": []
  }
 ],
 "metadata": {
  "kernelspec": {
   "display_name": "Python 3 (ipykernel)",
   "language": "python",
   "name": "python3"
  },
  "language_info": {
   "codemirror_mode": {
    "name": "ipython",
    "version": 3
   },
   "file_extension": ".py",
   "mimetype": "text/x-python",
   "name": "python",
   "nbconvert_exporter": "python",
   "pygments_lexer": "ipython3",
   "version": "3.10.12"
  }
 },
 "nbformat": 4,
 "nbformat_minor": 5
}
